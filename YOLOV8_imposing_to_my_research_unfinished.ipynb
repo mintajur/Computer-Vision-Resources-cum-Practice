{
  "nbformat": 4,
  "nbformat_minor": 0,
  "metadata": {
    "colab": {
      "provenance": [],
      "gpuType": "T4"
    },
    "kernelspec": {
      "name": "python3",
      "display_name": "Python 3"
    },
    "language_info": {
      "name": "python"
    },
    "accelerator": "GPU"
  },
  "cells": [
    {
      "cell_type": "code",
      "execution_count": null,
      "metadata": {
        "colab": {
          "base_uri": "https://localhost:8080/"
        },
        "id": "EhBFLNa1tH1W",
        "outputId": "69f581ad-ef84-4b9a-c8d3-b3eae0a2a54d"
      },
      "outputs": [
        {
          "output_type": "stream",
          "name": "stdout",
          "text": [
            "Fri Oct  6 12:12:38 2023       \n",
            "+-----------------------------------------------------------------------------+\n",
            "| NVIDIA-SMI 525.105.17   Driver Version: 525.105.17   CUDA Version: 12.0     |\n",
            "|-------------------------------+----------------------+----------------------+\n",
            "| GPU  Name        Persistence-M| Bus-Id        Disp.A | Volatile Uncorr. ECC |\n",
            "| Fan  Temp  Perf  Pwr:Usage/Cap|         Memory-Usage | GPU-Util  Compute M. |\n",
            "|                               |                      |               MIG M. |\n",
            "|===============================+======================+======================|\n",
            "|   0  Tesla T4            Off  | 00000000:00:04.0 Off |                    0 |\n",
            "| N/A   37C    P8     9W /  70W |      0MiB / 15360MiB |      0%      Default |\n",
            "|                               |                      |                  N/A |\n",
            "+-------------------------------+----------------------+----------------------+\n",
            "                                                                               \n",
            "+-----------------------------------------------------------------------------+\n",
            "| Processes:                                                                  |\n",
            "|  GPU   GI   CI        PID   Type   Process name                  GPU Memory |\n",
            "|        ID   ID                                                   Usage      |\n",
            "|=============================================================================|\n",
            "|  No running processes found                                                 |\n",
            "+-----------------------------------------------------------------------------+\n"
          ]
        }
      ],
      "source": [
        "!nvidia-smi"
      ]
    },
    {
      "cell_type": "code",
      "source": [
        "!pip install ultralytics==8.0.20\n",
        "\n",
        "from IPython import display\n",
        "display.clear_output()\n",
        "\n",
        "import ultralytics\n",
        "ultralytics.checks()"
      ],
      "metadata": {
        "colab": {
          "base_uri": "https://localhost:8080/"
        },
        "id": "PRD0_zmrtnJb",
        "outputId": "00df4ba7-ea87-446a-f2b9-d1882dc20e09"
      },
      "execution_count": null,
      "outputs": [
        {
          "output_type": "stream",
          "name": "stderr",
          "text": [
            "Ultralytics YOLOv8.0.20 🚀 Python-3.10.12 torch-2.0.1+cu118 CUDA:0 (Tesla T4, 15102MiB)\n",
            "Setup complete ✅ (2 CPUs, 12.7 GB RAM, 26.5/78.2 GB disk)\n"
          ]
        }
      ]
    },
    {
      "cell_type": "code",
      "source": [
        "from ultralytics import YOLO\n",
        "\n",
        "from IPython.display import display, Image"
      ],
      "metadata": {
        "id": "EAe29uwO6F7y"
      },
      "execution_count": null,
      "outputs": []
    },
    {
      "cell_type": "code",
      "source": [
        "from google.colab import drive\n",
        "drive.mount ('/content/drive')"
      ],
      "metadata": {
        "colab": {
          "base_uri": "https://localhost:8080/"
        },
        "id": "paVxnSV-0VaY",
        "outputId": "e80bd5e2-3344-441e-a5a9-83b3ae7c4a3d"
      },
      "execution_count": null,
      "outputs": [
        {
          "output_type": "stream",
          "name": "stdout",
          "text": [
            "Mounted at /content/drive\n"
          ]
        }
      ]
    },
    {
      "cell_type": "code",
      "source": [
        "%cd /content/drive/MyDrive/Colab Notebooks"
      ],
      "metadata": {
        "colab": {
          "base_uri": "https://localhost:8080/"
        },
        "id": "CXUPSElE7HcX",
        "outputId": "d9498085-5b05-4db2-bdd7-6727b3a993a3"
      },
      "execution_count": null,
      "outputs": [
        {
          "output_type": "stream",
          "name": "stdout",
          "text": [
            "/content/drive/MyDrive/Colab Notebooks\n"
          ]
        }
      ]
    },
    {
      "cell_type": "code",
      "source": [
        "!ls"
      ],
      "metadata": {
        "colab": {
          "base_uri": "https://localhost:8080/"
        },
        "id": "9EBc1TAW7SQC",
        "outputId": "8b503044-7dfc-4fc4-b604-62cfd2ec4958"
      },
      "execution_count": null,
      "outputs": [
        {
          "output_type": "stream",
          "name": "stdout",
          "text": [
            " Air_Filtration_System.ipynb\t\t       Untitled1.ipynb\n",
            "'Copy of YOLOv4_Training_Tutorial (1).ipynb'   Untitled2.ipynb\n",
            "'Copy of YOLOv4_Training_Tutorial.ipynb'       Untitled3.ipynb\n",
            " CP2.ipynb\t\t\t\t       Untitled4.ipynb\n",
            " data\t\t\t\t\t       Untitled5.ipynb\n",
            " data.yaml\t\t\t\t       Untitled6.ipynb\n",
            " detect_mask_live.ipynb\t\t\t       Untitled7.ipynb\n",
            " Facemask.ipynb\t\t\t\t       YOLO.ipynb\n",
            " MobileNet.ipynb\t\t\t      'yolov4_object detection.ipynb'\n",
            " PythonBasics_1.ipynb\t\t\t       YOLOV8.ipynb\n",
            " runs\t\t\t\t\t       yolov8s.pt\n",
            " Untitled0.ipynb\n"
          ]
        }
      ]
    },
    {
      "cell_type": "code",
      "source": [
        "%cd /content/drive/MyDrive/Colab Notebooks\n",
        "\n",
        "!yolo task=detect mode=train model=yolov8s.pt data= data.yaml epochs=25 imgsz=224 plots=True"
      ],
      "metadata": {
        "colab": {
          "base_uri": "https://localhost:8080/"
        },
        "id": "kwy2s_Cp7zlh",
        "outputId": "93749abd-fff5-4b8b-dd7d-d2a7fe4afdac"
      },
      "execution_count": null,
      "outputs": [
        {
          "output_type": "stream",
          "name": "stdout",
          "text": [
            "/content/drive/MyDrive/Colab Notebooks\n",
            "Ultralytics YOLOv8.0.20 🚀 Python-3.10.12 torch-2.0.1+cu118 CUDA:0 (Tesla T4, 15102MiB)\n",
            "\u001b[34m\u001b[1myolo/engine/trainer: \u001b[0mtask=detect, mode=train, model=yolov8s.yaml, data=data.yaml, epochs=25, patience=50, batch=16, imgsz=224, save=True, cache=False, device=, workers=8, project=None, name=None, exist_ok=False, pretrained=False, optimizer=SGD, verbose=True, seed=0, deterministic=True, single_cls=False, image_weights=False, rect=False, cos_lr=False, close_mosaic=10, resume=False, overlap_mask=True, mask_ratio=4, dropout=False, val=True, save_json=False, save_hybrid=False, conf=0.001, iou=0.7, max_det=300, half=False, dnn=False, plots=True, source=ultralytics/assets/, show=False, save_txt=False, save_conf=False, save_crop=False, hide_labels=False, hide_conf=False, vid_stride=1, line_thickness=3, visualize=False, augment=False, agnostic_nms=False, classes=None, retina_masks=False, boxes=True, format=torchscript, keras=False, optimize=False, int8=False, dynamic=False, simplify=False, opset=17, workspace=4, nms=False, lr0=0.01, lrf=0.01, momentum=0.937, weight_decay=0.001, warmup_epochs=3.0, warmup_momentum=0.8, warmup_bias_lr=0.1, box=7.5, cls=0.5, dfl=1.5, fl_gamma=0.0, label_smoothing=0.0, nbs=64, hsv_h=0.015, hsv_s=0.7, hsv_v=0.4, degrees=0.0, translate=0.1, scale=0.5, shear=0.0, perspective=0.0, flipud=0.0, fliplr=0.5, mosaic=1.0, mixup=0.0, copy_paste=0.0, cfg=None, v5loader=False, save_dir=runs/detect/train4\n",
            "2023-10-06 12:45:55.996918: I tensorflow/core/platform/cpu_feature_guard.cc:182] This TensorFlow binary is optimized to use available CPU instructions in performance-critical operations.\n",
            "To enable the following instructions: AVX2 AVX512F FMA, in other operations, rebuild TensorFlow with the appropriate compiler flags.\n",
            "2023-10-06 12:45:56.957353: W tensorflow/compiler/tf2tensorrt/utils/py_utils.cc:38] TF-TRT Warning: Could not find TensorRT\n",
            "Overriding model.yaml nc=80 with nc=7\n",
            "\n",
            "                   from  n    params  module                                       arguments                     \n",
            "  0                  -1  1       928  ultralytics.nn.modules.Conv                  [3, 32, 3, 2]                 \n",
            "  1                  -1  1     18560  ultralytics.nn.modules.Conv                  [32, 64, 3, 2]                \n",
            "  2                  -1  1     29056  ultralytics.nn.modules.C2f                   [64, 64, 1, True]             \n",
            "  3                  -1  1     73984  ultralytics.nn.modules.Conv                  [64, 128, 3, 2]               \n",
            "  4                  -1  2    197632  ultralytics.nn.modules.C2f                   [128, 128, 2, True]           \n",
            "  5                  -1  1    295424  ultralytics.nn.modules.Conv                  [128, 256, 3, 2]              \n",
            "  6                  -1  2    788480  ultralytics.nn.modules.C2f                   [256, 256, 2, True]           \n",
            "  7                  -1  1   1180672  ultralytics.nn.modules.Conv                  [256, 512, 3, 2]              \n",
            "  8                  -1  1   1838080  ultralytics.nn.modules.C2f                   [512, 512, 1, True]           \n",
            "  9                  -1  1    656896  ultralytics.nn.modules.SPPF                  [512, 512, 5]                 \n",
            " 10                  -1  1         0  torch.nn.modules.upsampling.Upsample         [None, 2, 'nearest']          \n",
            " 11             [-1, 6]  1         0  ultralytics.nn.modules.Concat                [1]                           \n",
            " 12                  -1  1    591360  ultralytics.nn.modules.C2f                   [768, 256, 1]                 \n",
            " 13                  -1  1         0  torch.nn.modules.upsampling.Upsample         [None, 2, 'nearest']          \n",
            " 14             [-1, 4]  1         0  ultralytics.nn.modules.Concat                [1]                           \n",
            " 15                  -1  1    148224  ultralytics.nn.modules.C2f                   [384, 128, 1]                 \n",
            " 16                  -1  1    147712  ultralytics.nn.modules.Conv                  [128, 128, 3, 2]              \n",
            " 17            [-1, 12]  1         0  ultralytics.nn.modules.Concat                [1]                           \n",
            " 18                  -1  1    493056  ultralytics.nn.modules.C2f                   [384, 256, 1]                 \n",
            " 19                  -1  1    590336  ultralytics.nn.modules.Conv                  [256, 256, 3, 2]              \n",
            " 20             [-1, 9]  1         0  ultralytics.nn.modules.Concat                [1]                           \n",
            " 21                  -1  1   1969152  ultralytics.nn.modules.C2f                   [768, 512, 1]                 \n",
            " 22        [15, 18, 21]  1   2118757  ultralytics.nn.modules.Detect                [7, [128, 256, 512]]          \n",
            "Model summary: 225 layers, 11138309 parameters, 11138293 gradients, 28.7 GFLOPs\n",
            "\n",
            "Transferred 349/355 items from pretrained weights\n",
            "\u001b[34m\u001b[1moptimizer:\u001b[0m SGD(lr=0.01) with parameter groups 57 weight(decay=0.0), 64 weight(decay=0.001), 63 bias\n",
            "\u001b[34m\u001b[1mtrain: \u001b[0mScanning /content/drive/MyDrive/Colab Notebooks/data/train/labels.cache... 44 images, 0 backgrounds, 44 corrupt: 100% 44/44 [00:00<?, ?it/s]\n",
            "\u001b[34m\u001b[1mtrain: \u001b[0mWARNING ⚠️ /content/drive/MyDrive/Colab Notebooks/data/train/images/youtube-560_jpg.rf.2f8d44461cd667c44659a5751d05bd04.jpg: ignoring corrupt image/label: could not convert string to float: 'NO-Mask'\n",
            "\u001b[34m\u001b[1mtrain: \u001b[0mWARNING ⚠️ /content/drive/MyDrive/Colab Notebooks/data/train/images/youtube-560_jpg.rf.8f99653f70bc2287a75c70758e5a43e0.jpg: ignoring corrupt image/label: could not convert string to float: 'Safety-Vest'\n",
            "\u001b[34m\u001b[1mtrain: \u001b[0mWARNING ⚠️ /content/drive/MyDrive/Colab Notebooks/data/train/images/youtube-560_jpg.rf.95875f8d875c1a43c1b4e6f39f77780d.jpg: ignoring corrupt image/label: could not convert string to float: 'Hardhat'\n",
            "\u001b[34m\u001b[1mtrain: \u001b[0mWARNING ⚠️ /content/drive/MyDrive/Colab Notebooks/data/train/images/youtube-560_jpg.rf.bf09771b2e40ad774e1ccab9bb930919.jpg: ignoring corrupt image/label: could not convert string to float: 'NO-Mask'\n",
            "\u001b[34m\u001b[1mtrain: \u001b[0mWARNING ⚠️ /content/drive/MyDrive/Colab Notebooks/data/train/images/youtube-560_jpg.rf.d7214d49543b694fd28746215c01049c.jpg: ignoring corrupt image/label: could not convert string to float: 'Mask'\n",
            "\u001b[34m\u001b[1mtrain: \u001b[0mWARNING ⚠️ /content/drive/MyDrive/Colab Notebooks/data/train/images/youtube-564_jpg.rf.0bd1880a77344188952361b26e244871.jpg: ignoring corrupt image/label: could not convert string to float: 'Person'\n",
            "\u001b[34m\u001b[1mtrain: \u001b[0mWARNING ⚠️ /content/drive/MyDrive/Colab Notebooks/data/train/images/youtube-564_jpg.rf.4d53a205cd034c39472c8ceebf3af69d.jpg: ignoring corrupt image/label: could not convert string to float: 'Safety-Vest'\n",
            "\u001b[34m\u001b[1mtrain: \u001b[0mWARNING ⚠️ /content/drive/MyDrive/Colab Notebooks/data/train/images/youtube-564_jpg.rf.b7ff2445bf314eaa4fb6aedb31537f37.jpg: ignoring corrupt image/label: could not convert string to float: 'Safety-Vest'\n",
            "\u001b[34m\u001b[1mtrain: \u001b[0mWARNING ⚠️ /content/drive/MyDrive/Colab Notebooks/data/train/images/youtube-564_jpg.rf.bb1e1e7b8cbbf050ca00be0128f428cc.jpg: ignoring corrupt image/label: could not convert string to float: 'Safety-Vest'\n",
            "\u001b[34m\u001b[1mtrain: \u001b[0mWARNING ⚠️ /content/drive/MyDrive/Colab Notebooks/data/train/images/youtube-564_jpg.rf.e8df3780028df1e34ca0aa9d40a87fb0.jpg: ignoring corrupt image/label: could not convert string to float: 'Safety-Vest'\n",
            "\u001b[34m\u001b[1mtrain: \u001b[0mWARNING ⚠️ /content/drive/MyDrive/Colab Notebooks/data/train/images/youtube-60_jpg.rf.17608ba2791115490e8624a0c0834f31.jpg: ignoring corrupt image/label: could not convert string to float: 'machinery'\n",
            "\u001b[34m\u001b[1mtrain: \u001b[0mWARNING ⚠️ /content/drive/MyDrive/Colab Notebooks/data/train/images/youtube-60_jpg.rf.26d94d2901a2173354e5b1112b8466e1.jpg: ignoring corrupt image/label: could not convert string to float: 'Hardhat'\n",
            "\u001b[34m\u001b[1mtrain: \u001b[0mWARNING ⚠️ /content/drive/MyDrive/Colab Notebooks/data/train/images/youtube-60_jpg.rf.6096630b9d195556cab35b07a3890d62.jpg: ignoring corrupt image/label: could not convert string to float: 'Person'\n",
            "\u001b[34m\u001b[1mtrain: \u001b[0mWARNING ⚠️ /content/drive/MyDrive/Colab Notebooks/data/train/images/youtube-60_jpg.rf.96ec79cd34674cef3b35219b90d9f753.jpg: ignoring corrupt image/label: could not convert string to float: 'Safety-Vest'\n",
            "\u001b[34m\u001b[1mtrain: \u001b[0mWARNING ⚠️ /content/drive/MyDrive/Colab Notebooks/data/train/images/youtube-60_jpg.rf.c71d352bf4375d6b743d9c58444d04d0.jpg: ignoring corrupt image/label: could not convert string to float: 'Person'\n",
            "\u001b[34m\u001b[1mtrain: \u001b[0mWARNING ⚠️ /content/drive/MyDrive/Colab Notebooks/data/train/images/youtube-61_jpg.rf.0b22869fe6da04a763f3e1f2a216c55b.jpg: ignoring corrupt image/label: could not convert string to float: 'Person'\n",
            "\u001b[34m\u001b[1mtrain: \u001b[0mWARNING ⚠️ /content/drive/MyDrive/Colab Notebooks/data/train/images/youtube-61_jpg.rf.1b26ec9c12255c8a7d19cddda5850f5f.jpg: ignoring corrupt image/label: could not convert string to float: 'Hardhat'\n",
            "\u001b[34m\u001b[1mtrain: \u001b[0mWARNING ⚠️ /content/drive/MyDrive/Colab Notebooks/data/train/images/youtube-61_jpg.rf.2f8ea247e5f46e06042d18ba0dec8fdb.jpg: ignoring corrupt image/label: could not convert string to float: 'Hardhat'\n",
            "\u001b[34m\u001b[1mtrain: \u001b[0mWARNING ⚠️ /content/drive/MyDrive/Colab Notebooks/data/train/images/youtube-61_jpg.rf.4544dac06a788293a264c29adb5c1fbf.jpg: ignoring corrupt image/label: could not convert string to float: 'Hardhat'\n",
            "\u001b[34m\u001b[1mtrain: \u001b[0mWARNING ⚠️ /content/drive/MyDrive/Colab Notebooks/data/train/images/youtube-61_jpg.rf.5d55405b33932b77ba587e16cb8ab56a.jpg: ignoring corrupt image/label: could not convert string to float: 'machinery'\n",
            "\u001b[34m\u001b[1mtrain: \u001b[0mWARNING ⚠️ /content/drive/MyDrive/Colab Notebooks/data/train/images/youtube-636_jpg.rf.623eb323389f62bea29c28bd49793022.jpg: ignoring corrupt image/label: could not convert string to float: 'Person'\n",
            "\u001b[34m\u001b[1mtrain: \u001b[0mWARNING ⚠️ /content/drive/MyDrive/Colab Notebooks/data/train/images/youtube-636_jpg.rf.964f510075988212d7b22be0cd7b80d8.jpg: ignoring corrupt image/label: could not convert string to float: 'Person'\n",
            "\u001b[34m\u001b[1mtrain: \u001b[0mWARNING ⚠️ /content/drive/MyDrive/Colab Notebooks/data/train/images/youtube-636_jpg.rf.fad86da27a46317102835ff1395b307a.jpg: ignoring corrupt image/label: could not convert string to float: 'Person'\n",
            "\u001b[34m\u001b[1mtrain: \u001b[0mWARNING ⚠️ /content/drive/MyDrive/Colab Notebooks/data/train/images/youtube-639_jpg.rf.0858ba004953521ae92ee56e6f95a993.jpg: ignoring corrupt image/label: could not convert string to float: 'Hardhat'\n",
            "\u001b[34m\u001b[1mtrain: \u001b[0mWARNING ⚠️ /content/drive/MyDrive/Colab Notebooks/data/train/images/youtube-639_jpg.rf.31820317a457e2ca8001577f46b6220e.jpg: ignoring corrupt image/label: could not convert string to float: 'NO-Mask'\n",
            "\u001b[34m\u001b[1mtrain: \u001b[0mWARNING ⚠️ /content/drive/MyDrive/Colab Notebooks/data/train/images/youtube-639_jpg.rf.351b2d526e4925e2d0bb07cca4f0609d.jpg: ignoring corrupt image/label: could not convert string to float: 'Hardhat'\n",
            "\u001b[34m\u001b[1mtrain: \u001b[0mWARNING ⚠️ /content/drive/MyDrive/Colab Notebooks/data/train/images/youtube-639_jpg.rf.49797bc26a8488409cdeeda6e6b8bae7.jpg: ignoring corrupt image/label: could not convert string to float: 'NO-Mask'\n",
            "\u001b[34m\u001b[1mtrain: \u001b[0mWARNING ⚠️ /content/drive/MyDrive/Colab Notebooks/data/train/images/youtube-639_jpg.rf.b07c4d496847b86d0e9c241be24f3231.jpg: ignoring corrupt image/label: could not convert string to float: 'NO-Mask'\n",
            "\u001b[34m\u001b[1mtrain: \u001b[0mWARNING ⚠️ /content/drive/MyDrive/Colab Notebooks/data/train/images/youtube-699_jpg.rf.08d0890d9ffd3c79f94e48db68c2ea6c.jpg: ignoring corrupt image/label: could not convert string to float: 'machinery'\n",
            "\u001b[34m\u001b[1mtrain: \u001b[0mWARNING ⚠️ /content/drive/MyDrive/Colab Notebooks/data/train/images/youtube-699_jpg.rf.553ad81fae79c4e278ac25c772a9b9b8.jpg: ignoring corrupt image/label: could not convert string to float: 'machinery'\n",
            "\u001b[34m\u001b[1mtrain: \u001b[0mWARNING ⚠️ /content/drive/MyDrive/Colab Notebooks/data/train/images/youtube-709_jpg.rf.25b93351042304554ba1fc60eb8ce451.jpg: ignoring corrupt image/label: could not convert string to float: 'Person'\n",
            "\u001b[34m\u001b[1mtrain: \u001b[0mWARNING ⚠️ /content/drive/MyDrive/Colab Notebooks/data/train/images/youtube-709_jpg.rf.34745146d2ae2dbc7b5605b15d06c949.jpg: ignoring corrupt image/label: could not convert string to float: 'Mask'\n",
            "\u001b[34m\u001b[1mtrain: \u001b[0mWARNING ⚠️ /content/drive/MyDrive/Colab Notebooks/data/train/images/youtube-709_jpg.rf.53c48ecb7866e3081701207f656fccc2.jpg: ignoring corrupt image/label: could not convert string to float: 'NO-Safety-Vest'\n",
            "\u001b[34m\u001b[1mtrain: \u001b[0mWARNING ⚠️ /content/drive/MyDrive/Colab Notebooks/data/train/images/youtube-709_jpg.rf.80681d4729a022bfc1bf6073aadc6f20.jpg: ignoring corrupt image/label: could not convert string to float: 'Person'\n",
            "\u001b[34m\u001b[1mtrain: \u001b[0mWARNING ⚠️ /content/drive/MyDrive/Colab Notebooks/data/train/images/youtube-709_jpg.rf.c67448753df01a846b96b11b26101d80.jpg: ignoring corrupt image/label: could not convert string to float: 'Person'\n",
            "\u001b[34m\u001b[1mtrain: \u001b[0mWARNING ⚠️ /content/drive/MyDrive/Colab Notebooks/data/train/images/youtube-710_jpg.rf.17c00a6edf7e16fa7527b1fd376ff98b.jpg: ignoring corrupt image/label: could not convert string to float: 'Mask'\n",
            "\u001b[34m\u001b[1mtrain: \u001b[0mWARNING ⚠️ /content/drive/MyDrive/Colab Notebooks/data/train/images/youtube-710_jpg.rf.336082a2d1af65c8d9184fe1dbdf7ac1.jpg: ignoring corrupt image/label: could not convert string to float: 'Mask'\n",
            "\u001b[34m\u001b[1mtrain: \u001b[0mWARNING ⚠️ /content/drive/MyDrive/Colab Notebooks/data/train/images/youtube-710_jpg.rf.676309e8bb0b7465a6fc6ae233c91011.jpg: ignoring corrupt image/label: could not convert string to float: 'Mask'\n",
            "\u001b[34m\u001b[1mtrain: \u001b[0mWARNING ⚠️ /content/drive/MyDrive/Colab Notebooks/data/train/images/youtube-710_jpg.rf.a632153f709e275551380bd68e23dc55.jpg: ignoring corrupt image/label: could not convert string to float: 'Mask'\n",
            "\u001b[34m\u001b[1mtrain: \u001b[0mWARNING ⚠️ /content/drive/MyDrive/Colab Notebooks/data/train/images/youtube-815_jpg.rf.db67913f887fa4d91d6720efe21bbf81.jpg: ignoring corrupt image/label: could not convert string to float: 'Safety-Cone'\n",
            "\u001b[34m\u001b[1mtrain: \u001b[0mWARNING ⚠️ /content/drive/MyDrive/Colab Notebooks/data/train/images/youtube-829_jpg.rf.dea2669b7b26f62b24e48dbfcf6d28f3.jpg: ignoring corrupt image/label: could not convert string to float: 'Mask'\n",
            "\u001b[34m\u001b[1mtrain: \u001b[0mWARNING ⚠️ /content/drive/MyDrive/Colab Notebooks/data/train/images/youtube-832_jpg.rf.fd422fc645f0412c547da78aea7f856f.jpg: ignoring corrupt image/label: could not convert string to float: 'Mask'\n",
            "\u001b[34m\u001b[1mtrain: \u001b[0mWARNING ⚠️ /content/drive/MyDrive/Colab Notebooks/data/train/images/youtube-837_jpg.rf.1b09fa4284f78dbb865099f70462cfad.jpg: ignoring corrupt image/label: could not convert string to float: 'vehicle'\n",
            "\u001b[34m\u001b[1mtrain: \u001b[0mWARNING ⚠️ /content/drive/MyDrive/Colab Notebooks/data/train/images/youtube-837_jpg.rf.cb9d104a7df8e2da5bc8e7e3645b3349.jpg: ignoring corrupt image/label: could not convert string to float: 'vehicle'\n",
            "Traceback (most recent call last):\n",
            "  File \"/usr/local/bin/yolo\", line 8, in <module>\n",
            "    sys.exit(entrypoint())\n",
            "  File \"/usr/local/lib/python3.10/dist-packages/ultralytics/yolo/cfg/__init__.py\", line 249, in entrypoint\n",
            "    getattr(model, mode)(verbose=True, **overrides)\n",
            "  File \"/usr/local/lib/python3.10/dist-packages/ultralytics/yolo/engine/model.py\", line 207, in train\n",
            "    self.trainer.train()\n",
            "  File \"/usr/local/lib/python3.10/dist-packages/ultralytics/yolo/engine/trainer.py\", line 183, in train\n",
            "    self._do_train(int(os.getenv(\"RANK\", -1)), world_size)\n",
            "  File \"/usr/local/lib/python3.10/dist-packages/ultralytics/yolo/engine/trainer.py\", line 248, in _do_train\n",
            "    self._setup_train(rank, world_size)\n",
            "  File \"/usr/local/lib/python3.10/dist-packages/ultralytics/yolo/engine/trainer.py\", line 234, in _setup_train\n",
            "    self.train_loader = self.get_dataloader(self.trainset, batch_size=batch_size, rank=rank, mode=\"train\")\n",
            "  File \"/usr/local/lib/python3.10/dist-packages/ultralytics/yolo/v8/detect/train.py\", line 43, in get_dataloader\n",
            "    build_dataloader(self.args, batch_size, img_path=dataset_path, stride=gs, rank=rank, mode=mode)[0]\n",
            "  File \"/usr/local/lib/python3.10/dist-packages/ultralytics/yolo/data/build.py\", line 64, in build_dataloader\n",
            "    dataset = YOLODataset(\n",
            "  File \"/usr/local/lib/python3.10/dist-packages/ultralytics/yolo/data/dataset.py\", line 45, in __init__\n",
            "    super().__init__(img_path, imgsz, label_path, cache, augment, hyp, prefix, rect, batch_size, stride, pad,\n",
            "  File \"/usr/local/lib/python3.10/dist-packages/ultralytics/yolo/data/base.py\", line 51, in __init__\n",
            "    self.labels = self.get_labels()\n",
            "  File \"/usr/local/lib/python3.10/dist-packages/ultralytics/yolo/data/dataset.py\", line 132, in get_labels\n",
            "    nl = len(np.concatenate([label[\"cls\"] for label in labels], 0))  # number of labels\n",
            "  File \"<__array_function__ internals>\", line 180, in concatenate\n",
            "ValueError: need at least one array to concatenate\n",
            "Sentry is attempting to send 2 pending events\n",
            "Waiting up to 2 seconds\n",
            "Press Ctrl-C to quit\n"
          ]
        }
      ]
    }
  ]
}